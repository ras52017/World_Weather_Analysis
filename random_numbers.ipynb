{
 "cells": [
  {
   "cell_type": "code",
   "execution_count": 13,
   "id": "405735d2",
   "metadata": {},
   "outputs": [],
   "source": [
    "# Import the random module.\n",
    "import random\n",
    "# Import the NumPy module.\n",
    "import numpy as np"
   ]
  },
  {
   "cell_type": "code",
   "execution_count": 2,
   "id": "15f497b1",
   "metadata": {},
   "outputs": [
    {
     "data": {
      "text/plain": [
       "38"
      ]
     },
     "execution_count": 2,
     "metadata": {},
     "output_type": "execute_result"
    }
   ],
   "source": [
    "random.randint(-90,90)"
   ]
  },
  {
   "cell_type": "code",
   "execution_count": 3,
   "id": "d3f6c564",
   "metadata": {},
   "outputs": [
    {
     "data": {
      "text/plain": [
       "0.4157122650908859"
      ]
     },
     "execution_count": 3,
     "metadata": {},
     "output_type": "execute_result"
    }
   ],
   "source": [
    "random.random()"
   ]
  },
  {
   "cell_type": "code",
   "execution_count": 4,
   "id": "26522a2f",
   "metadata": {},
   "outputs": [
    {
     "data": {
      "text/plain": [
       "-74.21789129718105"
      ]
     },
     "execution_count": 4,
     "metadata": {},
     "output_type": "execute_result"
    }
   ],
   "source": [
    " random_number=random.randint(-90, 89) + random.random()\n",
    " random_number"
   ]
  },
  {
   "cell_type": "code",
   "execution_count": 7,
   "id": "fe153a62",
   "metadata": {},
   "outputs": [],
   "source": [
    "x = 1\n",
    "latitudes = []\n",
    "while x < 11:\n",
    "    random_lat = random.randint(-90, 89) + random.random()\n",
    "    latitudes.append(random_lat)\n",
    "    x += 1"
   ]
  },
  {
   "cell_type": "code",
   "execution_count": 8,
   "id": "2beb4621",
   "metadata": {},
   "outputs": [
    {
     "data": {
      "text/plain": [
       "86"
      ]
     },
     "execution_count": 8,
     "metadata": {},
     "output_type": "execute_result"
    }
   ],
   "source": [
    "random.randrange(-90, 90, step=1)"
   ]
  },
  {
   "cell_type": "code",
   "execution_count": 10,
   "id": "2b16fa57",
   "metadata": {},
   "outputs": [
    {
     "data": {
      "text/plain": [
       "75"
      ]
     },
     "execution_count": 10,
     "metadata": {},
     "output_type": "execute_result"
    }
   ],
   "source": [
    "random.randrange(-90, 90, step=3)"
   ]
  },
  {
   "cell_type": "code",
   "execution_count": 12,
   "id": "a4a99abd",
   "metadata": {},
   "outputs": [
    {
     "data": {
      "text/plain": [
       "11.026890421535896"
      ]
     },
     "execution_count": 12,
     "metadata": {},
     "output_type": "execute_result"
    }
   ],
   "source": [
    "random.uniform(-90, 90)"
   ]
  },
  {
   "cell_type": "code",
   "execution_count": 15,
   "id": "edf8b777",
   "metadata": {},
   "outputs": [
    {
     "data": {
      "text/plain": [
       "-45.30570965439123"
      ]
     },
     "execution_count": 15,
     "metadata": {},
     "output_type": "execute_result"
    }
   ],
   "source": [
    "np.random.uniform(low =-90.000,high= 90.000)"
   ]
  },
  {
   "cell_type": "code",
   "execution_count": 16,
   "id": "da7a3c32",
   "metadata": {},
   "outputs": [
    {
     "data": {
      "text/plain": [
       "array([  5.15521448,  14.8590586 ,  62.84426489,  88.52052779,\n",
       "        87.9510711 ,  86.36398287,  50.36229799,   8.69868812,\n",
       "       -24.41765123, -25.93819136,  42.37786699, -48.80848301,\n",
       "        -4.12138158,  61.89136432, -69.44977558, -52.53802206,\n",
       "       -39.34160143,  27.80111564, -66.61468462, -76.5090964 ,\n",
       "        55.44781923,  75.19877735, -78.09993068,  -7.64069318,\n",
       "        15.76351842,  64.31244408, -20.77526482,  11.98121162,\n",
       "       -18.00035281, -67.06114934,  79.35063639,   3.76712541,\n",
       "        -7.20987428,  85.47402937,  57.81943081,  56.61786246,\n",
       "         5.38226145, -69.16001991,  49.38866279,  72.38071068,\n",
       "        38.09681503, -35.78098498,  26.46157876, -31.8922815 ,\n",
       "        18.24568206,  54.14348102,  13.88288631,  62.81937949,\n",
       "        54.16615582, -71.19488236])"
      ]
     },
     "execution_count": 16,
     "metadata": {},
     "output_type": "execute_result"
    }
   ],
   "source": [
    "np.random.uniform(-90.000, 90.000, size = 50)"
   ]
  },
  {
   "cell_type": "code",
   "execution_count": 19,
   "id": "79c6c25f",
   "metadata": {},
   "outputs": [],
   "source": [
    "# Import timeit.\n",
    "import timeit"
   ]
  },
  {
   "cell_type": "code",
   "execution_count": 18,
   "id": "5b3890e7",
   "metadata": {},
   "outputs": [
    {
     "name": "stdout",
     "output_type": "stream",
     "text": [
      "11.4 µs ± 103 ns per loop (mean ± std. dev. of 7 runs, 100,000 loops each)\n"
     ]
    }
   ],
   "source": [
    "%timeit np.random.uniform(-90.000, 90.000, size=1500)"
   ]
  },
  {
   "cell_type": "code",
   "execution_count": 21,
   "id": "77b1510e",
   "metadata": {},
   "outputs": [
    {
     "name": "stdout",
     "output_type": "stream",
     "text": [
      "1.24 ms ± 34.1 µs per loop (mean ± std. dev. of 7 runs, 1,000 loops each)\n"
     ]
    }
   ],
   "source": [
    "def latitudes(size):\n",
    "    latitudes = []\n",
    "    x = 0\n",
    "    while x < (size):\n",
    "        random_lat = random.randint(-90, 90) + random.random()\n",
    "        latitudes.append(random_lat)\n",
    "        x += 1\n",
    "    return latitudes\n",
    "# Call the function with 1500.\n",
    "%timeit latitudes(1500)"
   ]
  },
  {
   "cell_type": "code",
   "execution_count": 22,
   "id": "b4032237",
   "metadata": {},
   "outputs": [],
   "source": []
  }
 ],
 "metadata": {
  "kernelspec": {
   "display_name": "PythonData",
   "language": "python",
   "name": "pythondata"
  },
  "language_info": {
   "codemirror_mode": {
    "name": "ipython",
    "version": 3
   },
   "file_extension": ".py",
   "mimetype": "text/x-python",
   "name": "python",
   "nbconvert_exporter": "python",
   "pygments_lexer": "ipython3",
   "version": "3.9.12"
  }
 },
 "nbformat": 4,
 "nbformat_minor": 5
}
